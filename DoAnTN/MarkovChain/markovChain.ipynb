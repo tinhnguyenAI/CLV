{
 "cells": [
  {
   "cell_type": "markdown",
   "metadata": {},
   "source": [
    "# Ước tính giá trị vòng đời khách hàng sử dụng mô hình chuỗi Markov"
   ]
  },
  {
   "cell_type": "markdown",
   "metadata": {},
   "source": [
    "Sử dụng chuỗi Markov có thể ước tính CLV dựa trên xác suất của khách hàng chuyển tới mỗi trạng thái."
   ]
  },
  {
   "cell_type": "markdown",
   "metadata": {},
   "source": [
    "## Đọc dữ liệu"
   ]
  },
  {
   "cell_type": "code",
   "execution_count": 1,
   "metadata": {
    "collapsed": true
   },
   "outputs": [],
   "source": [
    "import pandas as pd\n",
    "import numpy as np\n",
    "from numpy.linalg import inv"
   ]
  },
  {
   "cell_type": "code",
   "execution_count": 94,
   "metadata": {},
   "outputs": [
    {
     "data": {
      "text/html": [
       "<div>\n",
       "<style>\n",
       "    .dataframe thead tr:only-child th {\n",
       "        text-align: right;\n",
       "    }\n",
       "\n",
       "    .dataframe thead th {\n",
       "        text-align: left;\n",
       "    }\n",
       "\n",
       "    .dataframe tbody tr th {\n",
       "        vertical-align: top;\n",
       "    }\n",
       "</style>\n",
       "<table border=\"1\" class=\"dataframe\">\n",
       "  <thead>\n",
       "    <tr style=\"text-align: right;\">\n",
       "      <th></th>\n",
       "      <th>InvoiceNo</th>\n",
       "      <th>StockCode</th>\n",
       "      <th>Description</th>\n",
       "      <th>Quantity</th>\n",
       "      <th>InvoiceDate</th>\n",
       "      <th>UnitPrice</th>\n",
       "      <th>CustomerID</th>\n",
       "      <th>Country</th>\n",
       "    </tr>\n",
       "  </thead>\n",
       "  <tbody>\n",
       "    <tr>\n",
       "      <th>0</th>\n",
       "      <td>536365</td>\n",
       "      <td>85123A</td>\n",
       "      <td>WHITE HANGING HEART T-LIGHT HOLDER</td>\n",
       "      <td>6</td>\n",
       "      <td>12/1/2010 8:26</td>\n",
       "      <td>2.55</td>\n",
       "      <td>17850.0</td>\n",
       "      <td>United Kingdom</td>\n",
       "    </tr>\n",
       "    <tr>\n",
       "      <th>1</th>\n",
       "      <td>536365</td>\n",
       "      <td>71053</td>\n",
       "      <td>WHITE METAL LANTERN</td>\n",
       "      <td>6</td>\n",
       "      <td>12/1/2010 8:26</td>\n",
       "      <td>3.39</td>\n",
       "      <td>17850.0</td>\n",
       "      <td>United Kingdom</td>\n",
       "    </tr>\n",
       "    <tr>\n",
       "      <th>2</th>\n",
       "      <td>536365</td>\n",
       "      <td>84406B</td>\n",
       "      <td>CREAM CUPID HEARTS COAT HANGER</td>\n",
       "      <td>8</td>\n",
       "      <td>12/1/2010 8:26</td>\n",
       "      <td>2.75</td>\n",
       "      <td>17850.0</td>\n",
       "      <td>United Kingdom</td>\n",
       "    </tr>\n",
       "    <tr>\n",
       "      <th>3</th>\n",
       "      <td>536365</td>\n",
       "      <td>84029G</td>\n",
       "      <td>KNITTED UNION FLAG HOT WATER BOTTLE</td>\n",
       "      <td>6</td>\n",
       "      <td>12/1/2010 8:26</td>\n",
       "      <td>3.39</td>\n",
       "      <td>17850.0</td>\n",
       "      <td>United Kingdom</td>\n",
       "    </tr>\n",
       "    <tr>\n",
       "      <th>4</th>\n",
       "      <td>536365</td>\n",
       "      <td>84029E</td>\n",
       "      <td>RED WOOLLY HOTTIE WHITE HEART.</td>\n",
       "      <td>6</td>\n",
       "      <td>12/1/2010 8:26</td>\n",
       "      <td>3.39</td>\n",
       "      <td>17850.0</td>\n",
       "      <td>United Kingdom</td>\n",
       "    </tr>\n",
       "  </tbody>\n",
       "</table>\n",
       "</div>"
      ],
      "text/plain": [
       "  InvoiceNo StockCode                          Description  Quantity  \\\n",
       "0    536365    85123A   WHITE HANGING HEART T-LIGHT HOLDER         6   \n",
       "1    536365     71053                  WHITE METAL LANTERN         6   \n",
       "2    536365    84406B       CREAM CUPID HEARTS COAT HANGER         8   \n",
       "3    536365    84029G  KNITTED UNION FLAG HOT WATER BOTTLE         6   \n",
       "4    536365    84029E       RED WOOLLY HOTTIE WHITE HEART.         6   \n",
       "\n",
       "      InvoiceDate  UnitPrice  CustomerID         Country  \n",
       "0  12/1/2010 8:26       2.55     17850.0  United Kingdom  \n",
       "1  12/1/2010 8:26       3.39     17850.0  United Kingdom  \n",
       "2  12/1/2010 8:26       2.75     17850.0  United Kingdom  \n",
       "3  12/1/2010 8:26       3.39     17850.0  United Kingdom  \n",
       "4  12/1/2010 8:26       3.39     17850.0  United Kingdom  "
      ]
     },
     "execution_count": 94,
     "metadata": {},
     "output_type": "execute_result"
    }
   ],
   "source": [
    "df_raw = pd.read_csv('_data/data-2.csv')\n",
    "df_raw.head()"
   ]
  },
  {
   "cell_type": "markdown",
   "metadata": {},
   "source": [
    "Trong bảng trên, chúng ta có thể thấy rằng mỗi hàng đại diện cho một mặt hàng trong một đơn đặt hàng từ một số khách hàng cụ thể. Để tính giá trị trọn đời của khách hàng, chúng ta muốn bảng ở cấp độ đơn hàng thay vì cấp sản phẩm."
   ]
  },
  {
   "cell_type": "markdown",
   "metadata": {},
   "source": [
    "## Định dạng dữ liệu ở cấp độ đơn hàng"
   ]
  },
  {
   "cell_type": "code",
   "execution_count": 100,
   "metadata": {
    "collapsed": true
   },
   "outputs": [],
   "source": [
    "def data_manipulate(df):\n",
    "    \"\"\"\n",
    "    Thay đổi dạng và mẫu dữ liệu\n",
    "    \n",
    "    Trả về:\n",
    "        pd.DataFrame: dataframe với một giao dịch trên một hàng\n",
    "    \"\"\"\n",
    "    \n",
    "    df['amount'] = df['Quantity']*df['UnitPrice']\n",
    "    df2 = df.groupby(['CustomerID','InvoiceNo','InvoiceDate']).agg({'amount':np.sum}).reset_index().query(\"amount>0\").reset_index(drop=True)\n",
    "    df2['InvoiceDate'] = pd.to_datetime(df2['InvoiceDate'])    \n",
    "    df2['date'] = df2['InvoiceDate'].apply(lambda x: x.date())  \n",
    "    df2['CustomerID'] = df2['CustomerID'].apply(lambda x: str(int(x))) #.astype(int).astype(str)\n",
    "    df2['month'] = df2['InvoiceDate'].apply(lambda x: x.month)\n",
    "    df2 = df2.sort_values(by=['CustomerID','InvoiceDate'])\n",
    "    \n",
    "    return df2        "
   ]
  },
  {
   "cell_type": "code",
   "execution_count": 101,
   "metadata": {
    "collapsed": true
   },
   "outputs": [],
   "source": [
    "df = data_manipulate(df_raw)"
   ]
  },
  {
   "cell_type": "code",
   "execution_count": 102,
   "metadata": {},
   "outputs": [
    {
     "data": {
      "text/html": [
       "<div>\n",
       "<style>\n",
       "    .dataframe thead tr:only-child th {\n",
       "        text-align: right;\n",
       "    }\n",
       "\n",
       "    .dataframe thead th {\n",
       "        text-align: left;\n",
       "    }\n",
       "\n",
       "    .dataframe tbody tr th {\n",
       "        vertical-align: top;\n",
       "    }\n",
       "</style>\n",
       "<table border=\"1\" class=\"dataframe\">\n",
       "  <thead>\n",
       "    <tr style=\"text-align: right;\">\n",
       "      <th></th>\n",
       "      <th>CustomerID</th>\n",
       "      <th>InvoiceNo</th>\n",
       "      <th>InvoiceDate</th>\n",
       "      <th>amount</th>\n",
       "      <th>date</th>\n",
       "      <th>month</th>\n",
       "    </tr>\n",
       "  </thead>\n",
       "  <tbody>\n",
       "    <tr>\n",
       "      <th>0</th>\n",
       "      <td>12346</td>\n",
       "      <td>541431</td>\n",
       "      <td>2011-01-18 10:01:00</td>\n",
       "      <td>77183.60</td>\n",
       "      <td>2011-01-18</td>\n",
       "      <td>1</td>\n",
       "    </tr>\n",
       "    <tr>\n",
       "      <th>1</th>\n",
       "      <td>12347</td>\n",
       "      <td>537626</td>\n",
       "      <td>2010-12-07 14:57:00</td>\n",
       "      <td>711.79</td>\n",
       "      <td>2010-12-07</td>\n",
       "      <td>12</td>\n",
       "    </tr>\n",
       "    <tr>\n",
       "      <th>2</th>\n",
       "      <td>12347</td>\n",
       "      <td>542237</td>\n",
       "      <td>2011-01-26 14:30:00</td>\n",
       "      <td>475.39</td>\n",
       "      <td>2011-01-26</td>\n",
       "      <td>1</td>\n",
       "    </tr>\n",
       "    <tr>\n",
       "      <th>3</th>\n",
       "      <td>12347</td>\n",
       "      <td>549222</td>\n",
       "      <td>2011-04-07 10:43:00</td>\n",
       "      <td>636.25</td>\n",
       "      <td>2011-04-07</td>\n",
       "      <td>4</td>\n",
       "    </tr>\n",
       "    <tr>\n",
       "      <th>4</th>\n",
       "      <td>12347</td>\n",
       "      <td>556201</td>\n",
       "      <td>2011-06-09 13:01:00</td>\n",
       "      <td>382.52</td>\n",
       "      <td>2011-06-09</td>\n",
       "      <td>6</td>\n",
       "    </tr>\n",
       "  </tbody>\n",
       "</table>\n",
       "</div>"
      ],
      "text/plain": [
       "  CustomerID InvoiceNo         InvoiceDate    amount        date  month\n",
       "0      12346    541431 2011-01-18 10:01:00  77183.60  2011-01-18      1\n",
       "1      12347    537626 2010-12-07 14:57:00    711.79  2010-12-07     12\n",
       "2      12347    542237 2011-01-26 14:30:00    475.39  2011-01-26      1\n",
       "3      12347    549222 2011-04-07 10:43:00    636.25  2011-04-07      4\n",
       "4      12347    556201 2011-06-09 13:01:00    382.52  2011-06-09      6"
      ]
     },
     "execution_count": 102,
     "metadata": {},
     "output_type": "execute_result"
    }
   ],
   "source": [
    "df.head()"
   ]
  },
  {
   "cell_type": "markdown",
   "metadata": {},
   "source": [
    "Trong bảng, chúng ta có thể thấy rằng mỗi hàng đại diện cho một đơn đặt hàng từ một khách hàng cụ thể. Chúng ta cũng có ngày đặt hàng cũng như số tiền trên mỗi đơn hàng, đây là thông tin cần thiết khi tính giá trị vòng đời của khách hàng."
   ]
  },
  {
   "cell_type": "markdown",
   "metadata": {},
   "source": [
    "## Thống kê mô tả dữ liệu"
   ]
  },
  {
   "cell_type": "markdown",
   "metadata": {},
   "source": [
    "#### Phạm vi thời gian của dữ liệu"
   ]
  },
  {
   "cell_type": "code",
   "execution_count": 7,
   "metadata": {},
   "outputs": [
    {
     "data": {
      "text/plain": [
       "count                   18562\n",
       "unique                  17282\n",
       "top       2011-10-21 14:41:00\n",
       "freq                        4\n",
       "first     2010-12-01 08:26:00\n",
       "last      2011-12-09 12:50:00\n",
       "Name: InvoiceDate, dtype: object"
      ]
     },
     "execution_count": 7,
     "metadata": {},
     "output_type": "execute_result"
    }
   ],
   "source": [
    "df['InvoiceDate'].describe()"
   ]
  },
  {
   "cell_type": "markdown",
   "metadata": {},
   "source": [
    "#### Số lượng khách hàng trong dữ liệu"
   ]
  },
  {
   "cell_type": "code",
   "execution_count": 8,
   "metadata": {},
   "outputs": [
    {
     "data": {
      "text/plain": [
       "4338"
      ]
     },
     "execution_count": 8,
     "metadata": {},
     "output_type": "execute_result"
    }
   ],
   "source": [
    "len(df['CustomerID'].unique())"
   ]
  },
  {
   "cell_type": "markdown",
   "metadata": {},
   "source": [
    "#### Số lượng khách hàng trong mỗi tháng"
   ]
  },
  {
   "cell_type": "code",
   "execution_count": 9,
   "metadata": {},
   "outputs": [
    {
     "data": {
      "text/html": [
       "<div>\n",
       "<style>\n",
       "    .dataframe thead tr:only-child th {\n",
       "        text-align: right;\n",
       "    }\n",
       "\n",
       "    .dataframe thead th {\n",
       "        text-align: left;\n",
       "    }\n",
       "\n",
       "    .dataframe tbody tr th {\n",
       "        vertical-align: top;\n",
       "    }\n",
       "</style>\n",
       "<table border=\"1\" class=\"dataframe\">\n",
       "  <thead>\n",
       "    <tr style=\"text-align: right;\">\n",
       "      <th></th>\n",
       "      <th>month</th>\n",
       "      <th>CustomerID</th>\n",
       "    </tr>\n",
       "  </thead>\n",
       "  <tbody>\n",
       "    <tr>\n",
       "      <th>0</th>\n",
       "      <td>1</td>\n",
       "      <td>741</td>\n",
       "    </tr>\n",
       "    <tr>\n",
       "      <th>1</th>\n",
       "      <td>2</td>\n",
       "      <td>758</td>\n",
       "    </tr>\n",
       "    <tr>\n",
       "      <th>2</th>\n",
       "      <td>3</td>\n",
       "      <td>974</td>\n",
       "    </tr>\n",
       "    <tr>\n",
       "      <th>3</th>\n",
       "      <td>4</td>\n",
       "      <td>856</td>\n",
       "    </tr>\n",
       "    <tr>\n",
       "      <th>4</th>\n",
       "      <td>5</td>\n",
       "      <td>1056</td>\n",
       "    </tr>\n",
       "    <tr>\n",
       "      <th>5</th>\n",
       "      <td>6</td>\n",
       "      <td>991</td>\n",
       "    </tr>\n",
       "    <tr>\n",
       "      <th>6</th>\n",
       "      <td>7</td>\n",
       "      <td>949</td>\n",
       "    </tr>\n",
       "    <tr>\n",
       "      <th>7</th>\n",
       "      <td>8</td>\n",
       "      <td>935</td>\n",
       "    </tr>\n",
       "    <tr>\n",
       "      <th>8</th>\n",
       "      <td>9</td>\n",
       "      <td>1266</td>\n",
       "    </tr>\n",
       "    <tr>\n",
       "      <th>9</th>\n",
       "      <td>10</td>\n",
       "      <td>1364</td>\n",
       "    </tr>\n",
       "    <tr>\n",
       "      <th>10</th>\n",
       "      <td>11</td>\n",
       "      <td>1664</td>\n",
       "    </tr>\n",
       "    <tr>\n",
       "      <th>11</th>\n",
       "      <td>12</td>\n",
       "      <td>1265</td>\n",
       "    </tr>\n",
       "  </tbody>\n",
       "</table>\n",
       "</div>"
      ],
      "text/plain": [
       "    month  CustomerID\n",
       "0       1         741\n",
       "1       2         758\n",
       "2       3         974\n",
       "3       4         856\n",
       "4       5        1056\n",
       "5       6         991\n",
       "6       7         949\n",
       "7       8         935\n",
       "8       9        1266\n",
       "9      10        1364\n",
       "10     11        1664\n",
       "11     12        1265"
      ]
     },
     "execution_count": 9,
     "metadata": {},
     "output_type": "execute_result"
    }
   ],
   "source": [
    "df.groupby('month').agg({'CustomerID':'nunique'}).reset_index()"
   ]
  },
  {
   "cell_type": "markdown",
   "metadata": {},
   "source": [
    "#### Số lượng đơn đặt hàng của khách hàng"
   ]
  },
  {
   "cell_type": "code",
   "execution_count": 97,
   "metadata": {},
   "outputs": [
    {
     "data": {
      "text/html": [
       "<div>\n",
       "<style>\n",
       "    .dataframe thead tr:only-child th {\n",
       "        text-align: right;\n",
       "    }\n",
       "\n",
       "    .dataframe thead th {\n",
       "        text-align: left;\n",
       "    }\n",
       "\n",
       "    .dataframe tbody tr th {\n",
       "        vertical-align: top;\n",
       "    }\n",
       "</style>\n",
       "<table border=\"1\" class=\"dataframe\">\n",
       "  <thead>\n",
       "    <tr style=\"text-align: right;\">\n",
       "      <th></th>\n",
       "      <th>InvoiceNo</th>\n",
       "      <th>amount</th>\n",
       "    </tr>\n",
       "  </thead>\n",
       "  <tbody>\n",
       "    <tr>\n",
       "      <th>count</th>\n",
       "      <td>4338.000000</td>\n",
       "      <td>4338.000000</td>\n",
       "    </tr>\n",
       "    <tr>\n",
       "      <th>mean</th>\n",
       "      <td>4.272015</td>\n",
       "      <td>418.710140</td>\n",
       "    </tr>\n",
       "    <tr>\n",
       "      <th>std</th>\n",
       "      <td>7.697998</td>\n",
       "      <td>1796.481888</td>\n",
       "    </tr>\n",
       "    <tr>\n",
       "      <th>min</th>\n",
       "      <td>1.000000</td>\n",
       "      <td>3.450000</td>\n",
       "    </tr>\n",
       "    <tr>\n",
       "      <th>25%</th>\n",
       "      <td>1.000000</td>\n",
       "      <td>178.450500</td>\n",
       "    </tr>\n",
       "    <tr>\n",
       "      <th>50%</th>\n",
       "      <td>2.000000</td>\n",
       "      <td>292.552000</td>\n",
       "    </tr>\n",
       "    <tr>\n",
       "      <th>75%</th>\n",
       "      <td>5.000000</td>\n",
       "      <td>428.890000</td>\n",
       "    </tr>\n",
       "    <tr>\n",
       "      <th>max</th>\n",
       "      <td>209.000000</td>\n",
       "      <td>84236.250000</td>\n",
       "    </tr>\n",
       "  </tbody>\n",
       "</table>\n",
       "</div>"
      ],
      "text/plain": [
       "         InvoiceNo        amount\n",
       "count  4338.000000   4338.000000\n",
       "mean      4.272015    418.710140\n",
       "std       7.697998   1796.481888\n",
       "min       1.000000      3.450000\n",
       "25%       1.000000    178.450500\n",
       "50%       2.000000    292.552000\n",
       "75%       5.000000    428.890000\n",
       "max     209.000000  84236.250000"
      ]
     },
     "execution_count": 97,
     "metadata": {},
     "output_type": "execute_result"
    }
   ],
   "source": [
    "df.groupby('CustomerID').agg({'InvoiceNo':'nunique', 'amount': np.mean}).reset_index().describe()"
   ]
  },
  {
   "cell_type": "markdown",
   "metadata": {},
   "source": [
    "#### Định nghĩa giai đoạn trở lại mua hàng"
   ]
  },
  {
   "cell_type": "code",
   "execution_count": 152,
   "metadata": {
    "collapsed": true
   },
   "outputs": [],
   "source": [
    "def get_purchase_period(df):\n",
    "    \"\"\"Số lượng ngày giữa mỗi đơn đặt hàng cho người có nhiều lần mua hàng\"\"\"\n",
    "    \n",
    "    # Giữ các hàng từ cid với nhiều bản ghi giao dịch\n",
    "    df_multi_id = df.groupby('CustomerID').agg({'InvoiceNo':'nunique'}).reset_index().query('InvoiceNo>1')['CustomerID']    \n",
    "    df_multi = df[df['CustomerID'].isin(list(df_multi_id))].copy()\n",
    "    \n",
    "    # số lượng ngày giữa mỗi đơn đặt hàng\n",
    "    df_multi['date_prev'] = df_multi['date'].shift(1)\n",
    "    df_multi['date_diff'] = df_multi['date'] - df_multi['date_prev']\n",
    "    df_multi['date_diff'] = df_multi['date_diff'].apply(lambda x: x.days)\n",
    "    \n",
    "    # Thoát khỏi hàng đầu tiên cho mỗi khách hàng\n",
    "    df_multi['cid_shift'] = df_multi['CustomerID'].shift(1)\n",
    "    df_multi['is_first_row'] = df_multi['CustomerID']!=df_multi['cid_shift']\n",
    "    df_multi = df_multi[df_multi['is_first_row']==False]\n",
    "    \n",
    "    return df_multi"
   ]
  },
  {
   "cell_type": "code",
   "execution_count": 153,
   "metadata": {
    "collapsed": true
   },
   "outputs": [],
   "source": [
    "df_return = get_purchase_period(df)"
   ]
  },
  {
   "cell_type": "code",
   "execution_count": 156,
   "metadata": {},
   "outputs": [],
   "source": [
    "df_avg_return= df_return.groupby('CustomerID').agg({'date_diff':np.mean}).reset_index()"
   ]
  },
  {
   "cell_type": "code",
   "execution_count": 159,
   "metadata": {},
   "outputs": [
    {
     "data": {
      "text/plain": [
       "count    2845.000000\n",
       "mean       72.523273\n",
       "std        65.463660\n",
       "min         0.000000\n",
       "25%        29.400000\n",
       "50%        53.400000\n",
       "75%        91.750000\n",
       "max       366.000000\n",
       "Name: date_diff, dtype: float64"
      ]
     },
     "execution_count": 159,
     "metadata": {},
     "output_type": "execute_result"
    }
   ],
   "source": [
    "df_avg_return['date_diff'].describe()"
   ]
  },
  {
   "cell_type": "markdown",
   "metadata": {},
   "source": [
    "Đối với những người đã thực hiện nhiều giao dịch mua, số ngày trung bình giữa mỗi đơn hàng là 73 ngày.\n",
    "Số ngày trung bình giữa mỗi đơn hàng là 53 ngày."
   ]
  },
  {
   "cell_type": "markdown",
   "metadata": {},
   "source": [
    "## Xây dựng mô hình CLV"
   ]
  },
  {
   "cell_type": "markdown",
   "metadata": {},
   "source": [
    "-Sử dụng recency và frequency để phân tách tất cả các khách hàng vào các trạng thái khác nhau. Đầu tiên định nghĩa một ngưỡng thời gian có thể phân chia các giao dịch vào khoảng thời gian trước và hiện tại. Sử dụng tỉ lệ mua hàng trở lại để ước tính xác suất chuyển để chúng ta sử dụng ma trận chuyển. Với giả sử xác suất không đổi cho các khoảng thời gian sau, chúng ta có thể sử dụng nó để ước tính giá trị vòng đời khách hàng. Một số giả định và các tham số cố định ta cần định nghĩa để tính giá trị cuối cùng. Một sô thông tin ước tính CLV:\n",
    "-Giả định:\n",
    "    +Định nghĩa ngưỡng thời gian: tháng 10/2010\n",
    "    +Định nghĩa độ dài của khoảng thời gian lần mua gần nhất: 1 tháng. Recency < 1 nghĩa là khách hàng có mua hàng vào tháng 9/2010.\n",
    "    +Định nghĩa các nhóm khác nhau của recency và frequency:\n",
    "        R<1, F=1\n",
    "        R<1, F>1\n",
    "        1≤R<2, F=1\n",
    "        2≤R<3, F≥1\n",
    "        3≤R<4, F≥1\n",
    "        4≤R, F≥1\n",
    "    +Định nghĩa tỉ lệ chiết khấu: giả sử tỉ lệ chiết khấu là 10% và không đổi.\n",
    "-Đầu vào của mô hình\n",
    "    +Vecto ban đầu: Số lượng khách hàng trong mỗi trạng thái tại thời gian 0.\n",
    "    +Ma trận chuyển: Tính ma trận chuyển theo giả định chúng ta xây dựng: xác suất chuyển là tổng số lần mua của khách hàng                         trên tổng khách hàng là xác suất chuyển cho mỗi trạng thái.\n",
    "    +Vecto giá trị: Các chi phí tiếp thị tại thời điểm t là c và m là giá trị đóng góp của khách hàng, một khách hàng                              không mua tại thời gian t tạo ra -c lợi nhuận trong khi đó một khách hàng mua sinh ra m-c lợi nhuận.\n",
    "             *Chi phí tiếp thị: Chi phí để có khách hàng tại mỗi thời điểm.\n",
    "             *Giá trị mang lại: sử dụng tổng số tiền trung bình cho tất cả các khách hàng, giả sử rằng nếu duy trì được khách                                  hàng thì khách hàng sẽ sẽ chi số tiền này trong mỗi giai đoạn.\n",
    "\n",
    "-Đầu ra của mô hình\n",
    "    +Vecto CLV: mỗi thành phần biểu thị CLV cho các khách hàng trong mỗi giai đoạn."
   ]
  },
  {
   "cell_type": "markdown",
   "metadata": {},
   "source": [
    "---"
   ]
  },
  {
   "cell_type": "code",
   "execution_count": 13,
   "metadata": {
    "collapsed": true
   },
   "outputs": [],
   "source": [
    "def get_recency(df, snapshot_date, col_cid, col_date):\n",
    "    \"\"\"\n",
    "    Lấy lần mua gần nhất của các khách hàng theo thời gian lần mua cuối cùng\n",
    "    \n",
    "   tham số truyền vào:\n",
    "        df (pd.DataFrame): Dữ liệu các giao dịch\n",
    "        snapshot_date (datetime.date):\n",
    "            -ngưỡng thời gian được sử dụng để ước tính xác suất chuyển \n",
    "            -sử dụng ngưỡng thời gian như hôm nay (today()) trừ thời gian mua là ngưỡng thời gian trong tương lai\n",
    "        col_cid (str): cột customerID    \n",
    "        col_date (str): cột ngày giao dịch (InvoiceDate)\n",
    "        \n",
    "    Trả về:\n",
    "        pd.DataFrame: một dữ liệu với cột [CustomerID, Recency]\n",
    "        \n",
    "        R=0 biểu thị khách hàng mua hiện tại\n",
    "        R>1, ... biểu thị khách hàng không mua ở thời gian hiện tại            \n",
    "    \"\"\"\n",
    "\n",
    "    # Lấy giao dịch gần đây nhất cho mỗi cid\n",
    "    df_recent = df.groupby(col_cid).agg({'date':'max'}).reset_index()\n",
    "\n",
    "    # Lấy cột recency\n",
    "    df_recent['recency'] = df_recent['date'].apply(lambda x: label_recency(x, snapshot_date))\n",
    "    \n",
    "    return df_recent[['CustomerID', 'recency']]\n",
    "    \n",
    "    \n",
    "def label_recency(date, snapshot_date):\n",
    "    \"\"\"\n",
    "    match date to recency measure\n",
    "    \"\"\"\n",
    "    \n",
    "    if (date >= snapshot_date):\n",
    "        recency = 'R=0' \n",
    "    elif (date >= (snapshot_date- pd.DateOffset(months=1)).date()):\n",
    "        recency = 'R<1' \n",
    "    elif (date >= (snapshot_date- pd.DateOffset(months=2)).date()):\n",
    "        recency = '1<=R<2'\n",
    "    elif (date >= (snapshot_date- pd.DateOffset(months=3)).date()):        \n",
    "        recency = '2<=R<3'  \n",
    "    elif (date >= (snapshot_date- pd.DateOffset(months=4)).date()):        \n",
    "        recency = '3<=R<4'         \n",
    "    else:\n",
    "        recency = 'R>=4'         \n",
    "\n",
    "    return recency \n",
    " "
   ]
  },
  {
   "cell_type": "code",
   "execution_count": 14,
   "metadata": {
    "collapsed": true
   },
   "outputs": [],
   "source": [
    "def get_frequency(df, col_cid, col_invoice):\n",
    "    \"\"\"\n",
    "    Lấy frequency của khách hàng theo tổng số lần mua\n",
    "    Tham số truyền vào:\n",
    "        df (pd.DataFrame): dữ liệu giao dịch\n",
    "        col_cid (str): cột mã khách hàng (CustomerID)            \n",
    "        col_invoice (str): cột mã hóa đơn (InvoiceNo)\n",
    "\n",
    "    Trả về:\n",
    "        pd.DataFrame: dữ liệu với cột [CustomerID, Frequenct]\n",
    "    \n",
    "    \"\"\"\n",
    "\n",
    "    df_freq = df.groupby(col_cid).agg({col_invoice:'nunique'}).reset_index().rename(columns={'InvoiceNo':'TranCount'})\n",
    "    df_freq['frequency'] = ['F=1' if t == 1 else 'F>1' for t in df_freq['TranCount']]\n",
    "    \n",
    "    return df_freq"
   ]
  },
  {
   "cell_type": "code",
   "execution_count": 64,
   "metadata": {
    "collapsed": true
   },
   "outputs": [],
   "source": [
    "def merge_date(df_freq, df_recency, col_cid = 'CustomerID'):\n",
    "    \"\"\" Nối tất cả các bảng liên quan đến tính CLV với nhau và giữ một bản ghi cho một khách hàng \"\"\"\n",
    "    \n",
    "    customer_df = pd.merge(df_freq, df_recency, on=col_cid, how='outer')\n",
    "    \n",
    "    # get state label\n",
    "    customer_df['state'] = customer_df.apply(lambda row: label_state(row.recency, row.frequency), axis=1)\n",
    "    \n",
    "    return customer_df"
   ]
  },
  {
   "cell_type": "code",
   "execution_count": 17,
   "metadata": {
    "collapsed": true
   },
   "outputs": [],
   "source": [
    "def label_state(r, f):\n",
    "    \"\"\"Nhãn trạng thái của khách hàng\"\"\"\n",
    "        \n",
    "    if r=='R<1' and f=='F=1':\n",
    "        state = \"state 1: R<1 F=1\"\n",
    "    elif r=='R<1' and f=='F>1':        \n",
    "        state = \"state 2: R<1 F>1\"    \n",
    "    elif r=='1<=R<2' and f=='F=1':        \n",
    "        state = \"state 3: 1<=R<2 F=1\"    \n",
    "    elif r=='1<=R<2' and f=='F>1':        \n",
    "        state = \"state 4: 1<=R<2 F>1\"    \n",
    "    elif r=='2<=R<3':        \n",
    "        state = \"state 5: 2<=R<3 F>=1\"    \n",
    "    elif r=='3<=R<4':        \n",
    "        state = \"state 6: 3<=R<4 F>=1\" \n",
    "    elif r=='R>=4':        \n",
    "        state = \"state 7: R>=4 F>=1\"      \n",
    "\n",
    "    return state"
   ]
  },
  {
   "cell_type": "code",
   "execution_count": 43,
   "metadata": {},
   "outputs": [],
   "source": [
    "def count_buyer(df_initial, df_current, col_cid):\n",
    "    \"\"\"Cho mỗi trạng thái, số lượng người mua ở thời gian hiện tại\"\"\"\n",
    "    \n",
    "    df_buyer = pd.DataFrame()\n",
    "    \n",
    "    for s in list(df_initial['state'].unique()):\n",
    "        \n",
    "        df_initial_filter = df_initial[df_initial['state']==s]\n",
    "        df_current_filter = df_current[df_current[col_cid].isin(df_initial_filter[col_cid])].copy()\n",
    "        \n",
    "        # Lấy id khách hàng riêng biệt\n",
    "        unique_count = len(df_current_filter[col_cid].unique())\n",
    "        \n",
    "        # Lấy tổng số tiền\n",
    "        total_dollar = sum(df_current_filter['amount'])\n",
    "        \n",
    "        df_buyer_state = pd.DataFrame({'state': [s],\n",
    "                                      'BuyerCount': [unique_count],\n",
    "                                      'TotalDollars': [total_dollar]})\n",
    "        \n",
    "        df_buyer = pd.concat([df_buyer, df_buyer_state])\n",
    "        \n",
    "    return df_buyer.reset_index(drop=True)"
   ]
  },
  {
   "cell_type": "code",
   "execution_count": 61,
   "metadata": {
    "collapsed": true
   },
   "outputs": [],
   "source": [
    "def get_rf(df_previous, snapshot_date, col_cid='CustomerID', col_invoice='InvoiceNo', col_date = 'date'):\n",
    "    \"\"\"Lấy nhóm recency và frequency cho khung dữ liệu thời gian trước\"\"\"\n",
    "    \n",
    "    # Tạo khung dữ liệu frequency\n",
    "    df_freq = get_frequency(df_previous, \n",
    "                        col_cid, \n",
    "                        col_invoice)\n",
    "    \n",
    "    # Tạo khung dữ liệu recency\n",
    "    df_recency = get_recency(df_previous, \n",
    "                         snapshot_date, \n",
    "                         col_cid, \n",
    "                         col_date)\n",
    "\n",
    "    # Nối hai bảng frequency và recency, tạo nhãn trạng thái\n",
    "    df_initial = merge_date(df_freq, df_recency, col_cid)\n",
    "       \n",
    "    return df_initial"
   ]
  },
  {
   "cell_type": "code",
   "execution_count": 60,
   "metadata": {
    "collapsed": true
   },
   "outputs": [],
   "source": [
    "def get_transition(df, snapshot_date, col_cid='CustomerID', col_invoice='InvoiceNo', col_date = 'date'):\n",
    "    \"\"\"Tạo khung dữ liệu với xác suất chuyển\"\"\"\n",
    "    \n",
    "    # Phân tách dữ liệu vào khoảng thời gian trước và hiện tại\n",
    "    df_current  = df[df['date']>= snapshot_date]\n",
    "    df_previous = df[df['date']< snapshot_date]\n",
    "    \n",
    "    #Tạo khung dữ liệu nhóm recency và frequency cho khoảng thời gian trước\n",
    "    df_initial = get_rf(df_previous, \n",
    "                        snapshot_date, \n",
    "                        col_cid,\n",
    "                        col_invoice, \n",
    "                        col_date)\n",
    "    \n",
    "    # Tạo vecto ban đầu\n",
    "    df_customer = df_initial.groupby('state').agg({col_cid:'nunique'}).reset_index().rename(columns = {col_cid: 'CustomerCount'})\n",
    "       \n",
    "    # Cho mỗi trạng thái, đếm số lượng người mua hàng ở khoảng thời gian hiện tại\n",
    "    df_buyer = count_buyer(df_initial, df_current, col_cid)\n",
    "        \n",
    "    # Tạo khung dữ liệu cuối cùng\n",
    "    df_final = pd.merge(df_customer, df_buyer, on='state')\n",
    "    df_final['BuyRate'] = df_final['BuyerCount']/df_final['CustomerCount']\n",
    "    df_final['AvgDollars'] = df_final['TotalDollars']/df_final['CustomerCount']  \n",
    "    \n",
    "    return df_final"
   ]
  },
  {
   "cell_type": "markdown",
   "metadata": {},
   "source": [
    "## Xây dựng ma trận xác suất chuyển với giá trị R, F"
   ]
  },
  {
   "cell_type": "markdown",
   "metadata": {},
   "source": [
    "* **Vecto ban đầu**: Số lượng khách hàng là vecto ban đầu\n",
    "* **Xác suất chuyển**: Tổng số lần mua của khách hàng trên tổng khách hàng là xác suất chuyển cho mỗi trạng thái\n",
    "* **Vecto giá trị**: Sử dụng trung bình tổng số tiền tiêu dùng của mỗi khách hàng như là đóng góp của mỗi khách hàng trong mỗi trạng thái"
   ]
  },
  {
   "cell_type": "code",
   "execution_count": 70,
   "metadata": {},
   "outputs": [],
   "source": [
    "snapshot_date = pd.to_datetime('2011/11/01 00:00:00').date()\n",
    "df_final = get_transition(df, snapshot_date, col_cid='CustomerID', col_invoice='InvoiceNo', col_date = 'date')"
   ]
  },
  {
   "cell_type": "code",
   "execution_count": 71,
   "metadata": {},
   "outputs": [
    {
     "data": {
      "text/html": [
       "<div>\n",
       "<style>\n",
       "    .dataframe thead tr:only-child th {\n",
       "        text-align: right;\n",
       "    }\n",
       "\n",
       "    .dataframe thead th {\n",
       "        text-align: left;\n",
       "    }\n",
       "\n",
       "    .dataframe tbody tr th {\n",
       "        vertical-align: top;\n",
       "    }\n",
       "</style>\n",
       "<table border=\"1\" class=\"dataframe\">\n",
       "  <thead>\n",
       "    <tr style=\"text-align: right;\">\n",
       "      <th></th>\n",
       "      <th>state</th>\n",
       "      <th>CustomerCount</th>\n",
       "      <th>BuyerCount</th>\n",
       "      <th>TotalDollars</th>\n",
       "      <th>BuyRate</th>\n",
       "      <th>AvgDollars</th>\n",
       "    </tr>\n",
       "  </thead>\n",
       "  <tbody>\n",
       "    <tr>\n",
       "      <th>0</th>\n",
       "      <td>state 1: R&lt;1 F=1</td>\n",
       "      <td>310</td>\n",
       "      <td>76</td>\n",
       "      <td>37646.22</td>\n",
       "      <td>0.245161</td>\n",
       "      <td>121.439419</td>\n",
       "    </tr>\n",
       "    <tr>\n",
       "      <th>1</th>\n",
       "      <td>state 2: R&lt;1 F&gt;1</td>\n",
       "      <td>1054</td>\n",
       "      <td>636</td>\n",
       "      <td>836151.70</td>\n",
       "      <td>0.603416</td>\n",
       "      <td>793.312808</td>\n",
       "    </tr>\n",
       "    <tr>\n",
       "      <th>2</th>\n",
       "      <td>state 3: 1&lt;=R&lt;2 F=1</td>\n",
       "      <td>210</td>\n",
       "      <td>54</td>\n",
       "      <td>20815.98</td>\n",
       "      <td>0.257143</td>\n",
       "      <td>99.123714</td>\n",
       "    </tr>\n",
       "    <tr>\n",
       "      <th>3</th>\n",
       "      <td>state 4: 1&lt;=R&lt;2 F&gt;1</td>\n",
       "      <td>567</td>\n",
       "      <td>310</td>\n",
       "      <td>215603.56</td>\n",
       "      <td>0.546737</td>\n",
       "      <td>380.253192</td>\n",
       "    </tr>\n",
       "    <tr>\n",
       "      <th>4</th>\n",
       "      <td>state 5: 2&lt;=R&lt;3 F&gt;=1</td>\n",
       "      <td>339</td>\n",
       "      <td>124</td>\n",
       "      <td>58426.18</td>\n",
       "      <td>0.365782</td>\n",
       "      <td>172.348614</td>\n",
       "    </tr>\n",
       "    <tr>\n",
       "      <th>5</th>\n",
       "      <td>state 6: 3&lt;=R&lt;4 F&gt;=1</td>\n",
       "      <td>263</td>\n",
       "      <td>85</td>\n",
       "      <td>58519.57</td>\n",
       "      <td>0.323194</td>\n",
       "      <td>222.507871</td>\n",
       "    </tr>\n",
       "    <tr>\n",
       "      <th>6</th>\n",
       "      <td>state 7: R&gt;=4 F&gt;=1</td>\n",
       "      <td>1231</td>\n",
       "      <td>259</td>\n",
       "      <td>273910.77</td>\n",
       "      <td>0.210398</td>\n",
       "      <td>222.510780</td>\n",
       "    </tr>\n",
       "  </tbody>\n",
       "</table>\n",
       "</div>"
      ],
      "text/plain": [
       "                  state  CustomerCount  BuyerCount  TotalDollars   BuyRate  \\\n",
       "0      state 1: R<1 F=1            310          76      37646.22  0.245161   \n",
       "1      state 2: R<1 F>1           1054         636     836151.70  0.603416   \n",
       "2   state 3: 1<=R<2 F=1            210          54      20815.98  0.257143   \n",
       "3   state 4: 1<=R<2 F>1            567         310     215603.56  0.546737   \n",
       "4  state 5: 2<=R<3 F>=1            339         124      58426.18  0.365782   \n",
       "5  state 6: 3<=R<4 F>=1            263          85      58519.57  0.323194   \n",
       "6    state 7: R>=4 F>=1           1231         259     273910.77  0.210398   \n",
       "\n",
       "   AvgDollars  \n",
       "0  121.439419  \n",
       "1  793.312808  \n",
       "2   99.123714  \n",
       "3  380.253192  \n",
       "4  172.348614  \n",
       "5  222.507871  \n",
       "6  222.510780  "
      ]
     },
     "execution_count": 71,
     "metadata": {},
     "output_type": "execute_result"
    }
   ],
   "source": [
    "df_final"
   ]
  },
  {
   "cell_type": "code",
   "execution_count": 72,
   "metadata": {},
   "outputs": [
    {
     "data": {
      "text/plain": [
       "array([ 310, 1054,  210,  567,  339,  263, 1231])"
      ]
     },
     "execution_count": 72,
     "metadata": {},
     "output_type": "execute_result"
    }
   ],
   "source": [
    "initial_vector = np.array(df_final['CustomerCount'])\n",
    "initial_vector"
   ]
  },
  {
   "cell_type": "code",
   "execution_count": 73,
   "metadata": {},
   "outputs": [
    {
     "data": {
      "text/plain": [
       "array([ 121.43941935,  793.31280835,   99.12371429,  380.25319224,\n",
       "        172.34861357,  222.50787072,  222.51077985])"
      ]
     },
     "execution_count": 73,
     "metadata": {},
     "output_type": "execute_result"
    }
   ],
   "source": [
    "value_vector = np.array(df_final['AvgDollars'])\n",
    "value_vector"
   ]
  },
  {
   "cell_type": "code",
   "execution_count": 75,
   "metadata": {},
   "outputs": [
    {
     "data": {
      "text/plain": [
       "array([ 0.24516129,  0.60341556,  0.25714286,  0.54673721,  0.36578171,\n",
       "        0.32319392,  0.21039805])"
      ]
     },
     "execution_count": 75,
     "metadata": {},
     "output_type": "execute_result"
    }
   ],
   "source": [
    "transition_prob = np.array(df_final['BuyRate'])\n",
    "transition_prob"
   ]
  },
  {
   "cell_type": "markdown",
   "metadata": {},
   "source": [
    "## Ma trận chuyển"
   ]
  },
  {
   "cell_type": "code",
   "execution_count": 76,
   "metadata": {},
   "outputs": [
    {
     "data": {
      "text/plain": [
       "matrix([[ 0.        ,  0.24516129,  0.75483871,  0.        ,  0.        ,\n",
       "          0.        ,  0.        ],\n",
       "        [ 0.        ,  0.60341556,  0.        ,  0.39658444,  0.        ,\n",
       "          0.        ,  0.        ],\n",
       "        [ 0.        ,  0.25714286,  0.        ,  0.        ,  0.74285714,\n",
       "          0.        ,  0.        ],\n",
       "        [ 0.        ,  0.54673721,  0.        ,  0.        ,  0.45326279,\n",
       "          0.        ,  0.        ],\n",
       "        [ 0.        ,  0.36578171,  0.        ,  0.        ,  0.        ,\n",
       "          0.63421829,  0.        ],\n",
       "        [ 0.        ,  0.32319392,  0.        ,  0.        ,  0.        ,\n",
       "          0.        ,  0.67680608],\n",
       "        [ 0.        ,  0.21039805,  0.        ,  0.        ,  0.        ,\n",
       "          0.        ,  0.78960195]])"
      ]
     },
     "execution_count": 76,
     "metadata": {},
     "output_type": "execute_result"
    }
   ],
   "source": [
    "tran_mat = np.matrix(\n",
    "    ((0, transition_prob[0], 1-transition_prob[0], 0, 0, 0, 0),\n",
    "     (0, transition_prob[1], 0, 1-transition_prob[1], 0, 0, 0),\n",
    "     (0, transition_prob[2], 0, 0, 1-transition_prob[2], 0, 0),\n",
    "     (0, transition_prob[3], 0, 0, 1-transition_prob[3], 0, 0),\n",
    "     (0, transition_prob[4], 0, 0, 0, 1-transition_prob[4], 0),\n",
    "     (0, transition_prob[5], 0, 0, 0, 0, 1-transition_prob[5]),\n",
    "     (0, transition_prob[6], 0, 0, 0, 0, 1-transition_prob[6]))\n",
    ")\n",
    "\n",
    "tran_mat"
   ]
  },
  {
   "cell_type": "markdown",
   "metadata": {},
   "source": [
    "## Giá trị vòng đời khách hàng"
   ]
  },
  {
   "cell_type": "markdown",
   "metadata": {},
   "source": [
    "Công thức xác định CLV:\n",
    "\n",
    "$$CLV = \\sum_{t=0}^{\\infty} \\frac{P^tv}{(1+d)^t} = \\Big[ \\sum_{t=0}^{\\infty} \\Big( \\frac{P}{1+d} \\Big)^t \\Big] v = \\Big( I - \\frac{P}{1+d} \\Big)^{-1} v$$"
   ]
  },
  {
   "cell_type": "code",
   "execution_count": 85,
   "metadata": {},
   "outputs": [],
   "source": [
    "def get_clv(df_final, tran_mat, value_vector, d):\n",
    "    \"\"\"Tính CLV sử dụng công thức mô hình di chuyển và kết hơợ với tính trạng thái sử dụng hàm tính xác suất chuyển get_transition\"\"\"\n",
    "    \n",
    "    clv = np.dot(inv(np.identity(7) - tran_mat/(1+d)), value_vector)\n",
    "    df_clv = pd.DataFrame(np.transpose(clv))\n",
    "    df_clv['state'] = df_final['state']\n",
    "    df_clv = df_clv.rename(columns = {0: 'CLV'})[['state', 'CLV']]\n",
    "    \n",
    "    return df_clv"
   ]
  },
  {
   "cell_type": "code",
   "execution_count": 88,
   "metadata": {},
   "outputs": [
    {
     "data": {
      "text/html": [
       "<div>\n",
       "<style>\n",
       "    .dataframe thead tr:only-child th {\n",
       "        text-align: right;\n",
       "    }\n",
       "\n",
       "    .dataframe thead th {\n",
       "        text-align: left;\n",
       "    }\n",
       "\n",
       "    .dataframe tbody tr th {\n",
       "        vertical-align: top;\n",
       "    }\n",
       "</style>\n",
       "<table border=\"1\" class=\"dataframe\">\n",
       "  <thead>\n",
       "    <tr style=\"text-align: right;\">\n",
       "      <th></th>\n",
       "      <th>state</th>\n",
       "      <th>CLV</th>\n",
       "    </tr>\n",
       "  </thead>\n",
       "  <tbody>\n",
       "    <tr>\n",
       "      <th>0</th>\n",
       "      <td>state 1: R&lt;1 F=1</td>\n",
       "      <td>5023.981862</td>\n",
       "    </tr>\n",
       "    <tr>\n",
       "      <th>1</th>\n",
       "      <td>state 2: R&lt;1 F&gt;1</td>\n",
       "      <td>6277.199480</td>\n",
       "    </tr>\n",
       "    <tr>\n",
       "      <th>2</th>\n",
       "      <td>state 3: 1&lt;=R&lt;2 F=1</td>\n",
       "      <td>5105.554754</td>\n",
       "    </tr>\n",
       "    <tr>\n",
       "      <th>3</th>\n",
       "      <td>state 4: 1&lt;=R&lt;2 F&gt;1</td>\n",
       "      <td>5659.615641</td>\n",
       "    </tr>\n",
       "    <tr>\n",
       "      <th>4</th>\n",
       "      <td>state 5: 2&lt;=R&lt;3 F&gt;=1</td>\n",
       "      <td>5240.492297</td>\n",
       "    </tr>\n",
       "    <tr>\n",
       "      <th>5</th>\n",
       "      <td>state 6: 3&lt;=R&lt;4 F&gt;=1</td>\n",
       "      <td>5169.944391</td>\n",
       "    </tr>\n",
       "    <tr>\n",
       "      <th>6</th>\n",
       "      <td>state 7: R&gt;=4 F&gt;=1</td>\n",
       "      <td>5043.434997</td>\n",
       "    </tr>\n",
       "  </tbody>\n",
       "</table>\n",
       "</div>"
      ],
      "text/plain": [
       "                  state          CLV\n",
       "0      state 1: R<1 F=1  5023.981862\n",
       "1      state 2: R<1 F>1  6277.199480\n",
       "2   state 3: 1<=R<2 F=1  5105.554754\n",
       "3   state 4: 1<=R<2 F>1  5659.615641\n",
       "4  state 5: 2<=R<3 F>=1  5240.492297\n",
       "5  state 6: 3<=R<4 F>=1  5169.944391\n",
       "6    state 7: R>=4 F>=1  5043.434997"
      ]
     },
     "execution_count": 88,
     "metadata": {},
     "output_type": "execute_result"
    }
   ],
   "source": [
    "df_clv1 = get_clv(df_final, tran_mat, value_vector, d=0.1)\n",
    "df_clv1"
   ]
  },
  {
   "cell_type": "code",
   "execution_count": 89,
   "metadata": {},
   "outputs": [
    {
     "data": {
      "text/html": [
       "<div>\n",
       "<style>\n",
       "    .dataframe thead tr:only-child th {\n",
       "        text-align: right;\n",
       "    }\n",
       "\n",
       "    .dataframe thead th {\n",
       "        text-align: left;\n",
       "    }\n",
       "\n",
       "    .dataframe tbody tr th {\n",
       "        vertical-align: top;\n",
       "    }\n",
       "</style>\n",
       "<table border=\"1\" class=\"dataframe\">\n",
       "  <thead>\n",
       "    <tr style=\"text-align: right;\">\n",
       "      <th></th>\n",
       "      <th>state</th>\n",
       "      <th>CLV</th>\n",
       "    </tr>\n",
       "  </thead>\n",
       "  <tbody>\n",
       "    <tr>\n",
       "      <th>0</th>\n",
       "      <td>state 1: R&lt;1 F=1</td>\n",
       "      <td>10257.556451</td>\n",
       "    </tr>\n",
       "    <tr>\n",
       "      <th>1</th>\n",
       "      <td>state 2: R&lt;1 F&gt;1</td>\n",
       "      <td>11567.142672</td>\n",
       "    </tr>\n",
       "    <tr>\n",
       "      <th>2</th>\n",
       "      <td>state 3: 1&lt;=R&lt;2 F=1</td>\n",
       "      <td>10342.748934</td>\n",
       "    </tr>\n",
       "    <tr>\n",
       "      <th>3</th>\n",
       "      <td>state 4: 1&lt;=R&lt;2 F&gt;1</td>\n",
       "      <td>10925.107107</td>\n",
       "    </tr>\n",
       "    <tr>\n",
       "      <th>4</th>\n",
       "      <td>state 5: 2&lt;=R&lt;3 F&gt;=1</td>\n",
       "      <td>10474.959338</td>\n",
       "    </tr>\n",
       "    <tr>\n",
       "      <th>5</th>\n",
       "      <td>state 6: 3&lt;=R&lt;4 F&gt;=1</td>\n",
       "      <td>10385.528354</td>\n",
       "    </tr>\n",
       "    <tr>\n",
       "      <th>6</th>\n",
       "      <td>state 7: R&gt;=4 F&gt;=1</td>\n",
       "      <td>10243.320108</td>\n",
       "    </tr>\n",
       "  </tbody>\n",
       "</table>\n",
       "</div>"
      ],
      "text/plain": [
       "                  state           CLV\n",
       "0      state 1: R<1 F=1  10257.556451\n",
       "1      state 2: R<1 F>1  11567.142672\n",
       "2   state 3: 1<=R<2 F=1  10342.748934\n",
       "3   state 4: 1<=R<2 F>1  10925.107107\n",
       "4  state 5: 2<=R<3 F>=1  10474.959338\n",
       "5  state 6: 3<=R<4 F>=1  10385.528354\n",
       "6    state 7: R>=4 F>=1  10243.320108"
      ]
     },
     "execution_count": 89,
     "metadata": {},
     "output_type": "execute_result"
    }
   ],
   "source": [
    "df_clv2 = get_clv(df_final, tran_mat, value_vector, d=0.05)\n",
    "df_clv2"
   ]
  },
  {
   "cell_type": "markdown",
   "metadata": {},
   "source": [
    "Từ kết quả, chúng ta có thể thấy rằng nó thực sự có ý nghĩa về quy mô tương đối. Chẳng hạn, giá trị vòng đời của khách hàng đối với những người ở trạng thái 2 cao hơn những người ở trạng thái 1; giá trị vòng đời của khách hàng đối với những người ở trạng thái 4 cao hơn những người ở trạng thái 3 vì tỷ lệ đóng góp trung bình và tỉ lệ trở lại mua của họ cao hơn.\n",
    "Cũng lưu ý rằng bằng cách sử dụng tỷ lệ chiết khấu khác nhau, thang đo tuyệt đối của kết quả CLV thực sự khác nhau rất nhiều. Điều này sẽ gây ra một số vấn đề nếu chúng ta muốn sử dụng giá trị tuyệt đối để xác định số tiền chúng ta muốn chi cho những người ở trạng thái khác nhau."
   ]
  }
 ],
 "metadata": {
  "kernelspec": {
   "display_name": "Python 3",
   "language": "python",
   "name": "python3"
  },
  "language_info": {
   "codemirror_mode": {
    "name": "ipython",
    "version": 3
   },
   "file_extension": ".py",
   "mimetype": "text/x-python",
   "name": "python",
   "nbconvert_exporter": "python",
   "pygments_lexer": "ipython3",
   "version": "3.7.1"
  }
 },
 "nbformat": 4,
 "nbformat_minor": 2
}
